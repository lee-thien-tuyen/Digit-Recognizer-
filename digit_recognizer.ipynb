{
  "nbformat": 4,
  "nbformat_minor": 0,
  "metadata": {
    "colab": {
      "provenance": [],
      "private_outputs": true,
      "authorship_tag": "ABX9TyNxYfbntx5OlvliWJBPNyfI",
      "include_colab_link": true
    },
    "kernelspec": {
      "name": "python3",
      "display_name": "Python 3"
    },
    "language_info": {
      "name": "python"
    },
    "accelerator": "GPU",
    "gpuClass": "standard"
  },
  "cells": [
    {
      "cell_type": "markdown",
      "metadata": {
        "id": "view-in-github",
        "colab_type": "text"
      },
      "source": [
        "<a href=\"https://colab.research.google.com/github/lee-thien-tuyen/Digit-Recognizer-/blob/main/digit_recognizer.ipynb\" target=\"_parent\"><img src=\"https://colab.research.google.com/assets/colab-badge.svg\" alt=\"Open In Colab\"/></a>"
      ]
    },
    {
      "cell_type": "code",
      "source": [
        "# download data file from github\n",
        "! git clone https://github.com/lee-thien-tuyen/Digit-Recognizer-.git "
      ],
      "metadata": {
        "id": "eUe-_ZuiUVV0"
      },
      "execution_count": null,
      "outputs": []
    },
    {
      "cell_type": "code",
      "source": [
        "import pandas as pd\n",
        "import numpy as np \n",
        "import tensorflow as tf \n",
        "import seaborn as sns\n",
        "import matplotlib.pyplot as plt\n",
        "%matplotlib inline "
      ],
      "metadata": {
        "id": "1mHkFzKHUb50"
      },
      "execution_count": null,
      "outputs": []
    },
    {
      "cell_type": "code",
      "source": [
        "train = pd.read_csv(\"Digit-Recognizer-/train.csv\")\n",
        "test = pd.read_csv(\"Digit-Recognizer-/test.csv\")\n",
        "\n",
        "train.head(8)"
      ],
      "metadata": {
        "id": "jBJL5_oqX7Lh"
      },
      "execution_count": null,
      "outputs": []
    },
    {
      "cell_type": "code",
      "source": [
        "train.info()"
      ],
      "metadata": {
        "id": "lXUi1QxrYNkF"
      },
      "execution_count": null,
      "outputs": []
    },
    {
      "cell_type": "code",
      "source": [
        "train.describe()"
      ],
      "metadata": {
        "id": "oE5aQXKAiR8F"
      },
      "execution_count": null,
      "outputs": []
    },
    {
      "cell_type": "code",
      "source": [
        "print(train.shape)\n",
        "print(test.shape)"
      ],
      "metadata": {
        "id": "x8yHdxyHYUac"
      },
      "execution_count": null,
      "outputs": []
    },
    {
      "cell_type": "code",
      "source": [
        "y_train = train['label'].astype('float32')\n",
        "x_train = train.drop(['label'],axis = 1).astype('int32')\n",
        "\n",
        "x_test = test.astype('float32')\n",
        "\n",
        "print(\"x_train have shape:\",x_train.shape)\n",
        "print(\"y_train have shape:\",y_train.shape)\n",
        "print(\"x_test have shape:\",x_test.shape)"
      ],
      "metadata": {
        "id": "IDYnrwWHY7mE"
      },
      "execution_count": null,
      "outputs": []
    },
    {
      "cell_type": "code",
      "source": [
        "x_train = x_train.values.reshape(-1,28,28)\n",
        "x_test = x_test.values.reshape(-1,28,28)\n",
        "print(\"x_train after reshape:\",x_train.shape)\n",
        "print(\"x_test after reshape:\",x_test.shape)"
      ],
      "metadata": {
        "id": "Ntmox1l7ZV_1"
      },
      "execution_count": null,
      "outputs": []
    },
    {
      "cell_type": "code",
      "source": [
        "# one hot coding y\n",
        "y_train = tf.keras.utils.to_categorical(y_train,10)\n",
        "print(\"y_train shape:\", y_train.shape)\n",
        "\n",
        "print(y_train[0:5,:])"
      ],
      "metadata": {
        "id": "zKEod7_leDK1"
      },
      "execution_count": null,
      "outputs": []
    },
    {
      "cell_type": "code",
      "source": [
        "#split data\n",
        "from sklearn.model_selection import train_test_split\n",
        "x_train, x_val, y_train, y_val = train_test_split(x_train,y_train,test_size = 0.2,random_state = 42)\n",
        "print(\"x_train shape:\",x_train.shape)\n",
        "print(\"y_train shape:\", y_train.shape)"
      ],
      "metadata": {
        "id": "Q4uM9uO7kqIn"
      },
      "execution_count": null,
      "outputs": []
    },
    {
      "cell_type": "code",
      "source": [
        "plt.figure(figsize=(12, 2), tight_layout=True, facecolor=\"white\")\n",
        "\n",
        "for idx, digit in enumerate(x_train[:10]):\n",
        "    plt.subplot(1, 10, idx + 1) \n",
        "    plt.imshow(digit, cmap=\"binary\")\n",
        "    plt.axis(\"off\")\n",
        "    \n",
        "plt.show()"
      ],
      "metadata": {
        "id": "aouaRhCk8AR5"
      },
      "execution_count": null,
      "outputs": []
    },
    {
      "cell_type": "code",
      "source": [
        "from scipy.ndimage import rotate, shift\n",
        "\n",
        "\n",
        "plt.figure(figsize=(12, 5), tight_layout=True, facecolor=\"white\")\n",
        "max_dx, max_dy, max_angle = 4, 4, 20\n",
        "\n",
        "# Example operations with Scipy.\n",
        "for row, digit in enumerate(x_train[:3]):\n",
        "    for col in range(10):\n",
        "        dx = np.random.randint(-max_dx, max_dx)\n",
        "        dy = np.random.randint(-max_dy, max_dy)\n",
        "        angle = np.random.randint(-max_angle, max_angle)\n",
        "\n",
        "        shifted = shift(digit, (dx, dy))\n",
        "        rotated = rotate(shifted, angle, order=1, reshape=False)\n",
        "\n",
        "        plt.subplot(3, 10, (col+1) + row * 10)\n",
        "        plt.imshow(rotated, cmap=\"binary\")\n",
        "        plt.axis(\"off\")\n",
        "\n",
        "plt.show()"
      ],
      "metadata": {
        "id": "c7IhyUr59J1g"
      },
      "execution_count": null,
      "outputs": []
    },
    {
      "cell_type": "code",
      "source": [
        "def digits_augmentation(X, y, max_dx=4, max_dy=4, max_angle=20, repeats=10):\n",
        "    X_augmented = [digit for digit in X]\n",
        "    y_augmented = [label for label in y]\n",
        "\n",
        "    for digit, label in zip(X, y):\n",
        "        for _ in range(repeats):\n",
        "            dx = np.random.randint(-max_dx, max_dx)\n",
        "            dy = np.random.randint(-max_dy, max_dy)\n",
        "            angle = np.random.randint(-max_angle, max_angle)\n",
        "\n",
        "            shifted = shift(digit, (dx, dy))\n",
        "            rotated = rotate(shifted, angle, order=1, reshape=False)\n",
        "\n",
        "            X_augmented.append(rotated)\n",
        "            y_augmented.append(label)\n",
        "\n",
        "    return np.array(X_augmented), np.array(y_augmented)"
      ],
      "metadata": {
        "id": "joeRCwGn9V2P"
      },
      "execution_count": null,
      "outputs": []
    },
    {
      "cell_type": "code",
      "source": [
        "np.random.seed(42)\n",
        "X_augmented, y_augmented = digits_augmentation(x_train, y_train)\n",
        "\n",
        "#shuff data\n",
        "shuffled_ids = np.random.permutation(len(X_augmented))\n",
        "\n",
        "X_augmented = X_augmented[shuffled_ids]\n",
        "y_augmented = y_augmented[shuffled_ids] \n",
        "\n",
        "X_augmented = np.expand_dims(X_augmented, axis=-1) / 255.0\n",
        "x_val = np.expand_dims(x_val, axis=-1) / 255.0\n",
        "x_test = np.expand_dims(x_test, axis=-1) / 255.0\n",
        "\n",
        "print(\"X_augmented shape:\", X_augmented.shape)\n",
        "print(\"x_val shape:\", x_val.shape)\n",
        "print(\"x_test shape:\", x_test.shape)\n",
        "print(\"y_augmented shape:\",y_augmented.shape)"
      ],
      "metadata": {
        "id": "3vnHyKWrABsI"
      },
      "execution_count": null,
      "outputs": []
    },
    {
      "cell_type": "code",
      "source": [
        "#define callback function to stop our training when the target accuracy is reached\n",
        "class mycallback(tf.keras.callbacks.Callback):\n",
        "  def on_epoch_end(self,epoch,logs={}):\n",
        "    if (logs.get('accuracy') is not None and logs.get('accuracy') >0.999):\n",
        "      print(\"\\n Reached 99.9% accuracy so cancelling training!!!\")\n",
        "      self.model.stop_training = True \n"
      ],
      "metadata": {
        "id": "BUIlFG4kpRwZ"
      },
      "execution_count": null,
      "outputs": []
    },
    {
      "cell_type": "code",
      "source": [
        "# Define function model NNs\n",
        "model = tf.keras.models.Sequential([\n",
        "    tf.keras.layers.Conv2D(32,3,activation = 'relu',input_shape = (28,28,1),kernel_initializer=\"he_normal\"),\n",
        "    tf.keras.layers.Conv2D(32,3,activation = 'relu',kernel_initializer=\"he_normal\"),\n",
        "    tf.keras.layers.MaxPooling2D(2,2),\n",
        "    tf.keras.layers.Conv2D(64,3,activation = 'relu',padding = 'same'),\n",
        "    tf.keras.layers.Conv2D(64,3,activation = 'relu',padding = 'same'),\n",
        "    tf.keras.layers.MaxPooling2D(2,2),\n",
        "    tf.keras.layers.Conv2D(64,3,activation = 'relu',padding = 'same'),\n",
        "    tf.keras.layers.Conv2D(64,3,activation = 'relu',padding = 'same'),\n",
        "    tf.keras.layers.MaxPooling2D(pool_size=(2,2),strides=(2,2)),\n",
        "    tf.keras.layers.Dropout(0.25),\n",
        "    tf.keras.layers.Flatten(),\n",
        "    tf.keras.layers.Dense(256,activation = 'relu'),\n",
        "    tf.keras.layers.Dropout(0.25),\n",
        "    tf.keras.layers.Dense(256,activation = 'relu'),\n",
        "    tf.keras.layers.Dropout(0.5),\n",
        "    tf.keras.layers.Dense(10,activation = 'softmax')\n",
        "])\n",
        "model.summary()"
      ],
      "metadata": {
        "id": "JE2xkQ_muJj3"
      },
      "execution_count": null,
      "outputs": []
    },
    {
      "cell_type": "code",
      "source": [
        "# Compile and fit model\n",
        "optimizer = tf.keras.optimizers.Adam(\n",
        "                                learning_rate= 0.001,\n",
        "                                beta_1 = 0.9,\n",
        "                                beta_2 = 0.999,\n",
        "                                epsilon = 1e-07,\n",
        "                                name = 'Adam')\n",
        "callbacks = mycallback()\n",
        "\n",
        "model.compile(optimizer = optimizer,\n",
        "              loss = 'categorical_crossentropy',\n",
        "              metrics = ['accuracy'])\n",
        "model.fit(X_augmented,y_augmented,batch_size =128,epochs = 20,validation_data = (x_val,y_val),callbacks=[callbacks])\n"
      ],
      "metadata": {
        "id": "zMdYDLFeifCd"
      },
      "execution_count": null,
      "outputs": []
    },
    {
      "cell_type": "code",
      "source": [
        "results = model.predict(x_test)\n",
        "\n",
        "#select the index with the maximum probaility \n",
        "results = np.argmax(results,axis = 1)\n",
        "\n",
        "results = pd.Series(results,name = \"Label\")"
      ],
      "metadata": {
        "id": "oveRi1yDr4u8"
      },
      "execution_count": null,
      "outputs": []
    },
    {
      "cell_type": "code",
      "source": [
        "submission = pd.concat([pd.Series(range(1,28001),name = \"ImageId\"),results],axis = 1)\n",
        "\n",
        "submission.to_csv(\"submission.csv\",index = False)"
      ],
      "metadata": {
        "id": "9X3MbKdvxuld"
      },
      "execution_count": null,
      "outputs": []
    },
    {
      "cell_type": "code",
      "source": [],
      "metadata": {
        "id": "zgLQ96i0yItP"
      },
      "execution_count": null,
      "outputs": []
    }
  ]
}